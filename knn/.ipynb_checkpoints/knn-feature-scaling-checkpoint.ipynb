{
 "cells": [
  {
   "cell_type": "markdown",
   "metadata": {},
   "source": [
    "# 数据归一化"
   ]
  },
  {
   "cell_type": "markdown",
   "metadata": {},
   "source": [
    "不同的评价指标往往具有不同的量纲（例如：对于评价房价来说量纲指：面积、房价数、楼层等；对于预测某个人患病率来说量纲指：身高、体重等。）和量纲单位（例如：面积单位：平方米、平方厘米等；身高：米、厘米等），这样的情况会影响到数据分析的结果，为了消除指标之间量纲的影响，需要进行数据标准化处理，已解决数据指标之间的可比性。原始数据经过数据标准化处理后，各指标处于同一数量级，适合进行综合对比评价"
   ]
  },
  {
   "cell_type": "markdown",
   "metadata": {},
   "source": [
    "归一化方法：\n",
    "\n",
    "最值归一化(normalization): 把所有数据映射到 0-1 之间; 适用于分布有明显边界的情况\n",
    "\n",
    "$X_{scale}=\\frac{X - X_{min}}{X_{max} - X_{min}}$\n",
    "\n",
    "\n",
    "均值方差归一化(standardization): 把所有数据归一到**均值为0方差为1**的分布中; 适用于数据分布没有明显边界的, 有可能存在极端数据值\n",
    "\n",
    "$X_{scale}=\\frac{X - X_{mean}}{S}$  ($X_{mean}$为特征值的均值，S为方差)\n",
    "\n",
    "\n"
   ]
  },
  {
   "cell_type": "markdown",
   "metadata": {},
   "source": [
    "## 归一化方法实现"
   ]
  },
  {
   "cell_type": "code",
   "execution_count": 109,
   "metadata": {
    "collapsed": true
   },
   "outputs": [],
   "source": [
    "import numpy as np\n",
    "import matplotlib.pylab as plt"
   ]
  },
  {
   "cell_type": "markdown",
   "metadata": {},
   "source": [
    "### 最值归一化"
   ]
  },
  {
   "cell_type": "code",
   "execution_count": 110,
   "metadata": {
    "collapsed": false
   },
   "outputs": [
    {
     "data": {
      "text/plain": [
       "array([17, 19, 58, 94, 56,  3, 83,  1,  0, 96, 81, 40, 84, 55, 67, 85, 15,\n",
       "       65, 76, 85, 33, 97, 95, 22, 47, 25,  2,  9, 87, 74, 13, 24, 92, 32,\n",
       "        5,  5, 47, 82, 25, 84, 36, 18, 32, 48, 14, 34, 19, 80, 69, 90, 78,\n",
       "       71, 87, 84, 50, 87, 10, 38, 84, 13, 64, 43, 39, 97, 64,  7, 99, 13,\n",
       "       96, 19, 51, 81, 36, 11, 56, 70,  6, 18, 57, 54, 54, 46,  7, 65, 48,\n",
       "        9, 50, 29, 10, 62, 70, 15, 10, 97, 80, 95, 75, 55, 79,  8])"
      ]
     },
     "execution_count": 110,
     "metadata": {},
     "output_type": "execute_result"
    }
   ],
   "source": [
    "# 生成 0-100 之间的 100 个随机整数\n",
    "x = np.random.randint(0, 100, size=100)\n",
    "x"
   ]
  },
  {
   "cell_type": "code",
   "execution_count": 111,
   "metadata": {
    "collapsed": false
   },
   "outputs": [
    {
     "data": {
      "text/plain": [
       "array([ 0.17171717,  0.19191919,  0.58585859,  0.94949495,  0.56565657,\n",
       "        0.03030303,  0.83838384,  0.01010101,  0.        ,  0.96969697,\n",
       "        0.81818182,  0.4040404 ,  0.84848485,  0.55555556,  0.67676768,\n",
       "        0.85858586,  0.15151515,  0.65656566,  0.76767677,  0.85858586,\n",
       "        0.33333333,  0.97979798,  0.95959596,  0.22222222,  0.47474747,\n",
       "        0.25252525,  0.02020202,  0.09090909,  0.87878788,  0.74747475,\n",
       "        0.13131313,  0.24242424,  0.92929293,  0.32323232,  0.05050505,\n",
       "        0.05050505,  0.47474747,  0.82828283,  0.25252525,  0.84848485,\n",
       "        0.36363636,  0.18181818,  0.32323232,  0.48484848,  0.14141414,\n",
       "        0.34343434,  0.19191919,  0.80808081,  0.6969697 ,  0.90909091,\n",
       "        0.78787879,  0.71717172,  0.87878788,  0.84848485,  0.50505051,\n",
       "        0.87878788,  0.1010101 ,  0.38383838,  0.84848485,  0.13131313,\n",
       "        0.64646465,  0.43434343,  0.39393939,  0.97979798,  0.64646465,\n",
       "        0.07070707,  1.        ,  0.13131313,  0.96969697,  0.19191919,\n",
       "        0.51515152,  0.81818182,  0.36363636,  0.11111111,  0.56565657,\n",
       "        0.70707071,  0.06060606,  0.18181818,  0.57575758,  0.54545455,\n",
       "        0.54545455,  0.46464646,  0.07070707,  0.65656566,  0.48484848,\n",
       "        0.09090909,  0.50505051,  0.29292929,  0.1010101 ,  0.62626263,\n",
       "        0.70707071,  0.15151515,  0.1010101 ,  0.97979798,  0.80808081,\n",
       "        0.95959596,  0.75757576,  0.55555556,  0.7979798 ,  0.08080808])"
      ]
     },
     "execution_count": 111,
     "metadata": {},
     "output_type": "execute_result"
    }
   ],
   "source": [
    "(x - np.min(x)) / (np.max(x) - np.min(x))"
   ]
  },
  {
   "cell_type": "code",
   "execution_count": 112,
   "metadata": {
    "collapsed": false
   },
   "outputs": [
    {
     "data": {
      "text/plain": [
       "array([[  5.,  94.],\n",
       "       [ 79.,   6.],\n",
       "       [ 99.,  14.],\n",
       "       [  9.,  83.],\n",
       "       [ 34.,  62.],\n",
       "       [ 87.,  51.],\n",
       "       [ 77.,  63.],\n",
       "       [ 52.,  38.],\n",
       "       [ 58.,  92.],\n",
       "       [ 47.,  60.]])"
      ]
     },
     "execution_count": 112,
     "metadata": {},
     "output_type": "execute_result"
    }
   ],
   "source": [
    "X = np.random.randint(0, 100, (50, 2))\n",
    "X = np.array(X, dtype=float)\n",
    "X[:10,:]"
   ]
  },
  {
   "cell_type": "code",
   "execution_count": 113,
   "metadata": {
    "collapsed": true
   },
   "outputs": [],
   "source": [
    "# 第0列数据归一化\n",
    "X[:, 0] = (X[:, 0] - np.min(X[:, 0])) / (np.max(X[:, 0]) - np.min(X[:, 0]))"
   ]
  },
  {
   "cell_type": "code",
   "execution_count": 114,
   "metadata": {
    "collapsed": true
   },
   "outputs": [],
   "source": [
    "# 第1列数据归一化\n",
    "X[:, 1] = (X[:, 1] - np.min(X[:, 1])) / (np.max(X[:, 1]) - np.min(X[:, 1]))"
   ]
  },
  {
   "cell_type": "code",
   "execution_count": 115,
   "metadata": {
    "collapsed": false
   },
   "outputs": [
    {
     "data": {
      "image/png": "[encoded data removed]",
      "text/plain": [
       "<matplotlib.figure.Figure at 0x1a1ac99908>"
      ]
     },
     "metadata": {},
     "output_type": "display_data"
    }
   ],
   "source": [
    "plt.scatter(X[:,0], X[:,1])\n",
    "plt.show()"
   ]
  },
  {
   "cell_type": "code",
   "execution_count": 116,
   "metadata": {
    "collapsed": false
   },
   "outputs": [
    {
     "data": {
      "text/plain": [
       "0.42081632653061229"
      ]
     },
     "execution_count": 116,
     "metadata": {},
     "output_type": "execute_result"
    }
   ],
   "source": [
    "np.mean(X[:, 0])"
   ]
  },
  {
   "cell_type": "code",
   "execution_count": 117,
   "metadata": {
    "collapsed": false
   },
   "outputs": [
    {
     "data": {
      "text/plain": [
       "0.52956521739130435"
      ]
     },
     "execution_count": 117,
     "metadata": {},
     "output_type": "execute_result"
    }
   ],
   "source": [
    "np.mean(X[:, 1])"
   ]
  },
  {
   "cell_type": "code",
   "execution_count": 118,
   "metadata": {
    "collapsed": false
   },
   "outputs": [
    {
     "data": {
      "text/plain": [
       "0.30562244880924561"
      ]
     },
     "execution_count": 118,
     "metadata": {},
     "output_type": "execute_result"
    }
   ],
   "source": [
    "np.std(X[:, 0])"
   ]
  },
  {
   "cell_type": "code",
   "execution_count": 119,
   "metadata": {
    "collapsed": false
   },
   "outputs": [
    {
     "data": {
      "text/plain": [
       "0.28684978251964738"
      ]
     },
     "execution_count": 119,
     "metadata": {},
     "output_type": "execute_result"
    }
   ],
   "source": [
    "np.std(X[:, 1])"
   ]
  },
  {
   "cell_type": "markdown",
   "metadata": {},
   "source": [
    "### 均值方差归一化"
   ]
  },
  {
   "cell_type": "code",
   "execution_count": 120,
   "metadata": {
    "collapsed": false
   },
   "outputs": [
    {
     "data": {
      "text/plain": [
       "array([[ 56.,  91.],\n",
       "       [ 41.,  44.],\n",
       "       [ 17.,  49.],\n",
       "       [  1.,  59.],\n",
       "       [ 53.,  15.],\n",
       "       [ 45.,  55.],\n",
       "       [ 37.,  40.],\n",
       "       [ 82.,  84.],\n",
       "       [ 50.,   9.],\n",
       "       [ 79.,  63.]])"
      ]
     },
     "execution_count": 120,
     "metadata": {},
     "output_type": "execute_result"
    }
   ],
   "source": [
    "Y = np.random.randint(0, 100, (50, 2))\n",
    "Y = np.array(Y, dtype=float)\n",
    "Y[:10,:]"
   ]
  },
  {
   "cell_type": "code",
   "execution_count": 121,
   "metadata": {
    "collapsed": true
   },
   "outputs": [],
   "source": [
    "Y[:, 0] = (Y[:, 0] - np.mean(Y[:, 0])) / np.std(Y[:, 0])"
   ]
  },
  {
   "cell_type": "code",
   "execution_count": 122,
   "metadata": {
    "collapsed": true
   },
   "outputs": [],
   "source": [
    "Y[:, 1] = (Y[:, 1] - np.mean(Y[:, 1])) / np.std(Y[:, 1])"
   ]
  },
  {
   "cell_type": "code",
   "execution_count": 123,
   "metadata": {
    "collapsed": false
   },
   "outputs": [
    {
     "data": {
      "image/png": "[encoded data removed]",
      "text/plain": [
       "<matplotlib.figure.Figure at 0x1a1aeb59b0>"
      ]
     },
     "metadata": {},
     "output_type": "display_data"
    }
   ],
   "source": [
    "plt.scatter(Y[:,0], Y[:,1])\n",
    "plt.show()"
   ]
  },
  {
   "cell_type": "code",
   "execution_count": 124,
   "metadata": {
    "collapsed": false
   },
   "outputs": [
    {
     "data": {
      "text/plain": [
       "5.7731597280508142e-17"
      ]
     },
     "execution_count": 124,
     "metadata": {},
     "output_type": "execute_result"
    }
   ],
   "source": [
    "np.mean(Y[:, 0])"
   ]
  },
  {
   "cell_type": "code",
   "execution_count": 125,
   "metadata": {
    "collapsed": false
   },
   "outputs": [
    {
     "data": {
      "text/plain": [
       "3.4972025275692431e-17"
      ]
     },
     "execution_count": 125,
     "metadata": {},
     "output_type": "execute_result"
    }
   ],
   "source": [
    "np.mean(Y[:, 1])"
   ]
  },
  {
   "cell_type": "code",
   "execution_count": 126,
   "metadata": {
    "collapsed": false
   },
   "outputs": [
    {
     "data": {
      "text/plain": [
       "0.99999999999999989"
      ]
     },
     "execution_count": 126,
     "metadata": {},
     "output_type": "execute_result"
    }
   ],
   "source": [
    "np.std(Y[:, 0])"
   ]
  },
  {
   "cell_type": "code",
   "execution_count": 127,
   "metadata": {
    "collapsed": false
   },
   "outputs": [
    {
     "data": {
      "text/plain": [
       "1.0"
      ]
     },
     "execution_count": 127,
     "metadata": {},
     "output_type": "execute_result"
    }
   ],
   "source": [
    "np.std(Y[:, 1])"
   ]
  },
  {
   "cell_type": "markdown",
   "metadata": {},
   "source": [
    "## sklearn中的数据归一化"
   ]
  },
  {
   "cell_type": "markdown",
   "metadata": {},
   "source": [
    "测试数据集的归一化需要是要训练数据集中的均值和方差"
   ]
  },
  {
   "cell_type": "code",
   "execution_count": 128,
   "metadata": {
    "collapsed": true
   },
   "outputs": [],
   "source": [
    "from sklearn import datasets\n",
    "import numpy as np\n",
    "iris = datasets.load_iris()"
   ]
  },
  {
   "cell_type": "code",
   "execution_count": 129,
   "metadata": {
    "collapsed": true
   },
   "outputs": [],
   "source": [
    "X = iris.data\n",
    "y = iris.target"
   ]
  },
  {
   "cell_type": "code",
   "execution_count": 130,
   "metadata": {
    "collapsed": false
   },
   "outputs": [
    {
     "data": {
      "text/plain": [
       "array([[ 5.1,  3.5,  1.4,  0.2],\n",
       "       [ 4.9,  3. ,  1.4,  0.2],\n",
       "       [ 4.7,  3.2,  1.3,  0.2],\n",
       "       [ 4.6,  3.1,  1.5,  0.2],\n",
       "       [ 5. ,  3.6,  1.4,  0.2],\n",
       "       [ 5.4,  3.9,  1.7,  0.4],\n",
       "       [ 4.6,  3.4,  1.4,  0.3],\n",
       "       [ 5. ,  3.4,  1.5,  0.2],\n",
       "       [ 4.4,  2.9,  1.4,  0.2],\n",
       "       [ 4.9,  3.1,  1.5,  0.1]])"
      ]
     },
     "execution_count": 130,
     "metadata": {},
     "output_type": "execute_result"
    }
   ],
   "source": [
    "X[:10, :]"
   ]
  },
  {
   "cell_type": "code",
   "execution_count": 131,
   "metadata": {
    "collapsed": true
   },
   "outputs": [],
   "source": [
    "from sklearn.model_selection import train_test_split\n",
    "X_train, X_test, y_train, y_test = train_test_split(X, y, test_size=0.2, random_state=666)"
   ]
  },
  {
   "cell_type": "markdown",
   "metadata": {},
   "source": [
    "### sklearn均值方差归一化"
   ]
  },
  {
   "cell_type": "code",
   "execution_count": 132,
   "metadata": {
    "collapsed": false
   },
   "outputs": [
    {
     "data": {
      "text/plain": [
       "StandardScaler(copy=True, with_mean=True, with_std=True)"
      ]
     },
     "execution_count": 132,
     "metadata": {},
     "output_type": "execute_result"
    }
   ],
   "source": [
    "from sklearn.preprocessing import StandardScaler\n",
    "standardScaler = StandardScaler()\n",
    "standardScaler.fit(X_train)"
   ]
  },
  {
   "cell_type": "code",
   "execution_count": 133,
   "metadata": {
    "collapsed": false
   },
   "outputs": [
    {
     "data": {
      "text/plain": [
       "array([ 5.83416667,  3.0825    ,  3.70916667,  1.16916667])"
      ]
     },
     "execution_count": 133,
     "metadata": {},
     "output_type": "execute_result"
    }
   ],
   "source": [
    "# 均值\n",
    "standardScaler.mean_"
   ]
  },
  {
   "cell_type": "code",
   "execution_count": 134,
   "metadata": {
    "collapsed": false
   },
   "outputs": [
    {
     "data": {
      "text/plain": [
       "array([ 0.81019502,  0.44076874,  1.76295187,  0.75429833])"
      ]
     },
     "execution_count": 134,
     "metadata": {},
     "output_type": "execute_result"
    }
   ],
   "source": [
    "# 方差\n",
    "standardScaler.scale_"
   ]
  },
  {
   "cell_type": "code",
   "execution_count": 135,
   "metadata": {
    "collapsed": true
   },
   "outputs": [],
   "source": [
    "# 归一化\n",
    "X_train_standard = standardScaler.transform(X_train)"
   ]
  },
  {
   "cell_type": "code",
   "execution_count": 136,
   "metadata": {
    "collapsed": false
   },
   "outputs": [
    {
     "data": {
      "text/plain": [
       "array([[-0.90616043,  0.94720873, -1.30982967, -1.28485856],\n",
       "       [-1.15301457, -0.18717298, -1.30982967, -1.28485856],\n",
       "       [-0.16559799, -0.64092567,  0.22169257,  0.17345038],\n",
       "       [ 0.45153738,  0.72033239,  0.95909217,  1.49918578],\n",
       "       [-0.90616043, -1.3215547 , -0.40226093, -0.0916967 ],\n",
       "       [ 1.43895396,  0.2665797 ,  0.56203085,  0.30602392],\n",
       "       [ 0.3281103 , -1.09467835,  1.07253826,  0.30602392],\n",
       "       [ 2.1795164 , -0.18717298,  1.63976872,  1.2340387 ],\n",
       "       [-0.78273335,  2.30846679, -1.25310662, -1.4174321 ],\n",
       "       [ 0.45153738, -2.00218372,  0.44858475,  0.43859746],\n",
       "       [ 1.80923518, -0.41404933,  1.46959958,  0.83631808],\n",
       "       [ 0.69839152,  0.2665797 ,  0.90236912,  1.49918578],\n",
       "       [ 0.20468323,  0.72033239,  0.44858475,  0.571171  ],\n",
       "       [-0.78273335, -0.86780201,  0.10824648,  0.30602392],\n",
       "       [-0.53587921,  1.40096142, -1.25310662, -1.28485856],\n",
       "       [-0.65930628,  1.40096142, -1.25310662, -1.28485856],\n",
       "       [-1.0295875 ,  0.94720873, -1.19638358, -0.7545644 ],\n",
       "       [-1.77014994, -0.41404933, -1.30982967, -1.28485856],\n",
       "       [-0.04217092, -0.86780201,  0.10824648,  0.04087684],\n",
       "       [-0.78273335,  0.72033239, -1.30982967, -1.28485856],\n",
       "       [-1.52329579,  0.72033239, -1.30982967, -1.15228502],\n",
       "       [ 0.82181859,  0.2665797 ,  0.78892303,  1.10146516],\n",
       "       [-0.16559799, -0.41404933,  0.27841562,  0.17345038],\n",
       "       [ 0.94524567, -0.18717298,  0.39186171,  0.30602392],\n",
       "       [ 0.20468323, -0.41404933,  0.44858475,  0.43859746],\n",
       "       [-1.39986872,  0.2665797 , -1.19638358, -1.28485856],\n",
       "       [-1.15301457,  0.03970336, -1.25310662, -1.4174321 ],\n",
       "       [ 1.06867274,  0.03970336,  1.07253826,  1.63175932],\n",
       "       [ 0.57496445, -0.86780201,  0.67547694,  0.83631808],\n",
       "       [ 0.3281103 , -0.64092567,  0.56203085,  0.04087684],\n",
       "       [ 0.45153738, -0.64092567,  0.61875389,  0.83631808],\n",
       "       [-0.16559799,  2.98909581, -1.25310662, -1.01971148],\n",
       "       [ 0.57496445, -1.3215547 ,  0.67547694,  0.43859746],\n",
       "       [ 0.69839152, -0.41404933,  0.33513866,  0.17345038],\n",
       "       [-0.90616043,  1.62783776, -1.02621444, -1.01971148],\n",
       "       [ 1.19209981, -0.64092567,  0.61875389,  0.30602392],\n",
       "       [-0.90616043,  0.94720873, -1.30982967, -1.15228502],\n",
       "       [-1.89357701, -0.18717298, -1.47999881, -1.4174321 ],\n",
       "       [ 0.08125616, -0.18717298,  0.78892303,  0.83631808],\n",
       "       [ 0.69839152, -0.64092567,  1.07253826,  1.2340387 ],\n",
       "       [-0.28902506, -0.64092567,  0.67547694,  1.10146516],\n",
       "       [-0.41245214, -1.54843104, -0.00519961, -0.22427024],\n",
       "       [ 1.31552689,  0.03970336,  0.67547694,  0.43859746],\n",
       "       [ 0.57496445,  0.72033239,  1.07253826,  1.63175932],\n",
       "       [ 0.82181859, -0.18717298,  1.18598435,  1.36661224],\n",
       "       [-0.16559799,  1.62783776, -1.13966053, -1.15228502],\n",
       "       [ 0.94524567, -0.41404933,  0.5053078 ,  0.17345038],\n",
       "       [ 1.06867274,  0.49345605,  1.12926131,  1.76433286],\n",
       "       [-1.27644165, -0.18717298, -1.30982967, -1.4174321 ],\n",
       "       [-1.0295875 ,  1.17408507, -1.30982967, -1.28485856],\n",
       "       [ 0.20468323, -0.18717298,  0.61875389,  0.83631808],\n",
       "       [-1.0295875 , -0.18717298, -1.19638358, -1.28485856],\n",
       "       [ 0.3281103 , -0.18717298,  0.67547694,  0.83631808],\n",
       "       [ 0.69839152,  0.03970336,  1.01581521,  0.83631808],\n",
       "       [-0.90616043,  1.40096142, -1.25310662, -1.01971148],\n",
       "       [-0.16559799, -0.18717298,  0.27841562,  0.04087684],\n",
       "       [-1.0295875 ,  0.94720873, -1.36655271, -1.15228502],\n",
       "       [-0.90616043,  1.62783776, -1.25310662, -1.15228502],\n",
       "       [-1.52329579,  0.2665797 , -1.30982967, -1.28485856],\n",
       "       [-0.53587921, -0.18717298,  0.44858475,  0.43859746],\n",
       "       [ 0.82181859, -0.64092567,  0.5053078 ,  0.43859746],\n",
       "       [ 0.3281103 , -0.64092567,  0.16496953,  0.17345038],\n",
       "       [-1.27644165,  0.72033239, -1.19638358, -1.28485856],\n",
       "       [-0.90616043,  0.49345605, -1.13966053, -0.88713794],\n",
       "       [-0.04217092, -0.86780201,  0.78892303,  0.96889162],\n",
       "       [-0.28902506, -0.18717298,  0.22169257,  0.17345038],\n",
       "       [ 0.57496445, -0.64092567,  0.78892303,  0.43859746],\n",
       "       [ 1.06867274,  0.49345605,  1.12926131,  1.2340387 ],\n",
       "       [ 1.68580811, -0.18717298,  1.18598435,  0.571171  ],\n",
       "       [ 1.06867274, -0.18717298,  0.84564608,  1.49918578],\n",
       "       [-1.15301457,  0.03970336, -1.25310662, -1.4174321 ],\n",
       "       [-1.15301457, -1.3215547 ,  0.44858475,  0.70374454],\n",
       "       [-0.16559799, -1.3215547 ,  0.73219998,  1.10146516],\n",
       "       [-1.15301457, -1.54843104, -0.2320918 , -0.22427024],\n",
       "       [-0.41245214, -1.54843104,  0.05152343, -0.0916967 ],\n",
       "       [ 1.06867274, -1.3215547 ,  1.18598435,  0.83631808],\n",
       "       [ 0.82181859, -0.18717298,  1.01581521,  0.83631808],\n",
       "       [-0.16559799, -1.09467835, -0.1186457 , -0.22427024],\n",
       "       [ 0.20468323, -2.00218372,  0.73219998,  0.43859746],\n",
       "       [ 1.06867274,  0.03970336,  0.56203085,  0.43859746],\n",
       "       [-1.15301457,  0.03970336, -1.25310662, -1.4174321 ],\n",
       "       [ 0.57496445, -1.3215547 ,  0.73219998,  0.96889162],\n",
       "       [-1.39986872,  0.2665797 , -1.36655271, -1.28485856],\n",
       "       [ 0.20468323, -0.86780201,  0.78892303,  0.571171  ],\n",
       "       [-0.04217092, -1.09467835,  0.16496953,  0.04087684],\n",
       "       [ 1.31552689,  0.2665797 ,  1.12926131,  1.49918578],\n",
       "       [-1.77014994, -0.18717298, -1.36655271, -1.28485856],\n",
       "       [ 1.56238103, -0.18717298,  1.2427074 ,  1.2340387 ],\n",
       "       [ 1.19209981,  0.2665797 ,  1.2427074 ,  1.49918578],\n",
       "       [-0.78273335,  0.94720873, -1.25310662, -1.28485856],\n",
       "       [ 2.54979762,  1.62783776,  1.52632263,  1.10146516],\n",
       "       [ 0.69839152, -0.64092567,  1.07253826,  1.36661224],\n",
       "       [-0.28902506, -0.41404933, -0.06192266,  0.17345038],\n",
       "       [-0.41245214,  2.53534313, -1.30982967, -1.28485856],\n",
       "       [-1.27644165, -0.18717298, -1.30982967, -1.15228502],\n",
       "       [ 0.57496445, -0.41404933,  1.07253826,  0.83631808],\n",
       "       [-1.77014994,  0.2665797 , -1.36655271, -1.28485856],\n",
       "       [-0.53587921,  1.8547141 , -1.13966053, -1.01971148],\n",
       "       [-1.0295875 ,  0.72033239, -1.19638358, -1.01971148],\n",
       "       [ 1.06867274, -0.18717298,  0.73219998,  0.70374454],\n",
       "       [-0.53587921,  1.8547141 , -1.36655271, -1.01971148],\n",
       "       [ 2.30294347, -0.64092567,  1.69649176,  1.10146516],\n",
       "       [-0.28902506, -0.86780201,  0.27841562,  0.17345038],\n",
       "       [ 1.19209981, -0.18717298,  1.01581521,  1.2340387 ],\n",
       "       [-0.41245214,  0.94720873, -1.36655271, -1.28485856],\n",
       "       [-1.27644165,  0.72033239, -1.02621444, -1.28485856],\n",
       "       [-0.53587921,  0.72033239, -1.13966053, -1.28485856],\n",
       "       [ 2.30294347,  1.62783776,  1.69649176,  1.36661224],\n",
       "       [ 1.31552689,  0.03970336,  0.95909217,  1.2340387 ],\n",
       "       [-0.28902506, -1.3215547 ,  0.10824648, -0.0916967 ],\n",
       "       [-0.90616043,  0.72033239, -1.25310662, -1.28485856],\n",
       "       [-0.90616043,  1.62783776, -1.19638358, -1.28485856],\n",
       "       [ 0.3281103 , -0.41404933,  0.56203085,  0.30602392],\n",
       "       [-0.04217092,  2.08159044, -1.42327576, -1.28485856],\n",
       "       [-1.0295875 , -2.45593641, -0.1186457 , -0.22427024],\n",
       "       [ 0.69839152,  0.2665797 ,  0.44858475,  0.43859746],\n",
       "       [ 0.3281103 , -0.18717298,  0.5053078 ,  0.30602392],\n",
       "       [ 0.08125616,  0.2665797 ,  0.61875389,  0.83631808],\n",
       "       [ 0.20468323, -2.00218372,  0.16496953, -0.22427024],\n",
       "       [ 1.93266225, -0.64092567,  1.35615349,  0.96889162]])"
      ]
     },
     "execution_count": 136,
     "metadata": {},
     "output_type": "execute_result"
    }
   ],
   "source": [
    "X_train_standard"
   ]
  },
  {
   "cell_type": "code",
   "execution_count": 137,
   "metadata": {
    "collapsed": true
   },
   "outputs": [],
   "source": [
    "X_test_standard = standardScaler.transform(X_test)"
   ]
  },
  {
   "cell_type": "code",
   "execution_count": 140,
   "metadata": {
    "collapsed": false,
    "scrolled": true
   },
   "outputs": [
    {
     "data": {
      "text/plain": [
       "array([[-0.28902506, -0.18717298,  0.44858475,  0.43859746],\n",
       "       [-0.04217092, -0.64092567,  0.78892303,  1.63175932],\n",
       "       [-1.0295875 , -1.77530738, -0.2320918 , -0.22427024],\n",
       "       [-0.04217092, -0.86780201,  0.78892303,  0.96889162],\n",
       "       [-1.52329579,  0.03970336, -1.25310662, -1.28485856],\n",
       "       [-0.41245214, -1.3215547 ,  0.16496953,  0.17345038],\n",
       "       [-0.16559799, -0.64092567,  0.44858475,  0.17345038],\n",
       "       [ 0.82181859, -0.18717298,  0.84564608,  1.10146516],\n",
       "       [ 0.57496445, -1.77530738,  0.39186171,  0.17345038],\n",
       "       [-0.41245214, -1.09467835,  0.39186171,  0.04087684],\n",
       "       [ 1.06867274,  0.03970336,  0.39186171,  0.30602392],\n",
       "       [-1.64672287, -1.77530738, -1.36655271, -1.15228502],\n",
       "       [-1.27644165,  0.03970336, -1.19638358, -1.28485856],\n",
       "       [-0.53587921,  0.72033239, -1.25310662, -1.01971148],\n",
       "       [ 1.68580811,  1.17408507,  1.35615349,  1.76433286],\n",
       "       [-0.04217092, -0.86780201,  0.22169257, -0.22427024],\n",
       "       [-1.52329579,  1.17408507, -1.53672185, -1.28485856],\n",
       "       [ 1.68580811,  0.2665797 ,  1.29943044,  0.83631808],\n",
       "       [ 1.31552689,  0.03970336,  0.78892303,  1.49918578],\n",
       "       [ 0.69839152, -0.86780201,  0.90236912,  0.96889162],\n",
       "       [ 0.57496445,  0.49345605,  0.56203085,  0.571171  ],\n",
       "       [-1.0295875 ,  0.72033239, -1.25310662, -1.28485856],\n",
       "       [ 2.30294347, -1.09467835,  1.80993786,  1.49918578],\n",
       "       [-1.0295875 ,  0.49345605, -1.30982967, -1.28485856],\n",
       "       [ 0.45153738, -0.41404933,  0.33513866,  0.17345038],\n",
       "       [ 0.08125616, -0.18717298,  0.27841562,  0.43859746],\n",
       "       [-1.0295875 ,  0.2665797 , -1.42327576, -1.28485856],\n",
       "       [-0.41245214, -1.77530738,  0.16496953,  0.17345038],\n",
       "       [ 0.57496445,  0.49345605,  1.29943044,  1.76433286],\n",
       "       [ 2.30294347, -0.18717298,  1.35615349,  1.49918578]])"
      ]
     },
     "execution_count": 140,
     "metadata": {},
     "output_type": "execute_result"
    }
   ],
   "source": [
    "X_test_standard"
   ]
  },
  {
   "cell_type": "code",
   "execution_count": 141,
   "metadata": {
    "collapsed": false
   },
   "outputs": [
    {
     "data": {
      "text/plain": [
       "1.0"
      ]
     },
     "execution_count": 141,
     "metadata": {},
     "output_type": "execute_result"
    }
   ],
   "source": [
    "from sklearn.neighbors import KNeighborsClassifier\n",
    "knn_clf = KNeighborsClassifier(n_neighbors=3)\n",
    "knn_clf.fit(X_train_standard, y_train)\n",
    "knn_clf.score(X_test_standard, y_test)"
   ]
  }
 ],
 "metadata": {
  "kernelspec": {
   "display_name": "Python 3",
   "language": "python",
   "name": "python3"
  },
  "language_info": {
   "codemirror_mode": {
    "name": "ipython",
    "version": 3
   },
   "file_extension": ".py",
   "mimetype": "text/x-python",
   "name": "python",
   "nbconvert_exporter": "python",
   "pygments_lexer": "ipython3",
   "version": "3.6.2"
  }
 },
 "nbformat": 4,
 "nbformat_minor": 2
}
