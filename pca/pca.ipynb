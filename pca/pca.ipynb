{
 "cells": [
  {
   "cell_type": "markdown",
   "metadata": {},
   "source": [
    "# 主成分分析(Principal Component Analysis)\n",
    "\n",
    "- 非监督学习的机器学习算法\n",
    "- 主要用于数据的降维\n",
    "- 通过降维，可以发现更便于人类理解的特征\n",
    "\n",
    "PCA(principal Component Analysis)，即主成分分析方法，是一种使用最广泛的数据压缩算法。在PCA中，数据从原来的坐标系转换到新的坐标系，由数据本身决定。转换坐标系时，以方差最大的方向作为坐标轴方向，因为数据的最大方差给出了数据的最重要的信息。第一个新坐标轴选择的是原始数据中方差最大的方法，第二个新坐标轴选择的是与第一个新坐标轴正交且方差次大的方向。重复该过程，重复次数为原始数据的特征维数。\n",
    "\n",
    "假设我们要将特征从  n  维度降到  k  维：PCA 首先找寻  k  个  n  维向量，然后将特征投影到这些向量构成的  k 维空间，并保证投影误差足够小。 如为了将特征维度从三维降低到二位，PCA 就会先找寻两个三维向量  u(1),u(2) ，二者构成了一个二维平面，然后将原来的三维特征投影到该二维平面上。\n",
    "\n",
    "\n",
    ">为什么用方差: 方差描述随机变量对于数学期望(均值)的偏离程度，因此方差（variance)是用来衡量随机变量或一组数据时离散程度的度量。每个样本值与全体样本值的平均数之差的平方值的平均数。公式为\n",
    "\n",
    ">$$\n",
    "Var(x) = \\frac {1}{m} \\sum _{i=1}^m(x_i - \\overline x)^2\n",
    "$$\n",
    "\n",
    ">标准差为方差开根号。\n",
    "\n",
    "算法流程："
   ]
  },
  {
   "cell_type": "markdown",
   "metadata": {},
   "source": [
    "# 均值归零"
   ]
  },
  {
   "cell_type": "code",
   "execution_count": 1,
   "metadata": {
    "collapsed": true
   },
   "outputs": [],
   "source": [
    "# 生成模拟数据\n",
    "import numpy as np\n",
    "import matplotlib.pyplot as plt "
   ]
  },
  {
   "cell_type": "code",
   "execution_count": 2,
   "metadata": {
    "collapsed": false
   },
   "outputs": [],
   "source": [
    "X = np.empty((100, 2))\n",
    "X[:, 0] = np.random.uniform(0., 100., size=100)\n",
    "X[:, 1] = 0.75 * X[:, 0] + 3. + np.random.normal(0, 10., size=100)"
   ]
  },
  {
   "cell_type": "code",
   "execution_count": 3,
   "metadata": {
    "collapsed": false
   },
   "outputs": [
    {
     "data": {
      "image/png": "[encoded data removed]",
      "text/plain": [
       "<matplotlib.figure.Figure at 0x10d43c2b0>"
      ]
     },
     "metadata": {},
     "output_type": "display_data"
    }
   ],
   "source": [
    "plt.scatter(X[:,0], X[:, 1])\n",
    "plt.show()"
   ]
  },
  {
   "cell_type": "code",
   "execution_count": 9,
   "metadata": {
    "collapsed": true
   },
   "outputs": [],
   "source": [
    "# 归零函数\n",
    "# np.mean。axis指明了矩阵的均值策略。对于m * n的矩阵\n",
    "# 默认对所有值求均值，返回一个实数；\n",
    "# 为0时，对各列求均值, 返回1 * n 矩阵 \n",
    "# 为1时，对各行求均值, 返回m * 1 矩阵\n",
    "def demean(X):\n",
    "    return X - np.mean(X, axis=0)"
   ]
  },
  {
   "cell_type": "code",
   "execution_count": 10,
   "metadata": {
    "collapsed": false
   },
   "outputs": [
    {
     "name": "stdout",
     "output_type": "stream",
     "text": [
      "[ 47.9405771  40.3448963]\n"
     ]
    }
   ],
   "source": [
    "X_demean = demean(X)"
   ]
  },
  {
   "cell_type": "code",
   "execution_count": 6,
   "metadata": {
    "collapsed": false
   },
   "outputs": [
    {
     "data": {
      "image/png": "[encoded data removed]",
      "text/plain": [
       "<matplotlib.figure.Figure at 0x10d53d6d8>"
      ]
     },
     "metadata": {},
     "output_type": "display_data"
    }
   ],
   "source": [
    "plt.scatter(X_demean[:,0], X_demean[:, 1])\n",
    "plt.show()"
   ]
  },
  {
   "cell_type": "code",
   "execution_count": 7,
   "metadata": {
    "collapsed": false
   },
   "outputs": [
    {
     "data": {
      "text/plain": [
       "-2.9274360713316128e-14"
      ]
     },
     "execution_count": 7,
     "metadata": {},
     "output_type": "execute_result"
    }
   ],
   "source": [
    "np.mean(X_demean[:,0])"
   ]
  },
  {
   "cell_type": "code",
   "execution_count": 8,
   "metadata": {
    "collapsed": false
   },
   "outputs": [
    {
     "data": {
      "text/plain": [
       "7.1054273576010019e-15"
      ]
     },
     "execution_count": 8,
     "metadata": {},
     "output_type": "execute_result"
    }
   ],
   "source": [
    "np.mean(X_demean[:,1])"
   ]
  },
  {
   "cell_type": "markdown",
   "metadata": {},
   "source": [
    "# 梯度上升法计算主成分\n",
    "\n",
    "经过均值归零化处理之后，样本的所有特性均值为0。带入方差公式，得到\n",
    "\n",
    "$\n",
    "Var(x) = \\frac {1}{m} \\sum _{i=1}^mx_i^2\n",
    "$\n",
    "\n",
    "假设现在有这样一个轴的方向向量为$w =(w_1, w_2)$(暂时只考虑二个特征值的情况)，则样本映射到$w$后，方差为\n",
    "\n",
    "$\n",
    "Var(X_{project}) = \\frac {1}{m} \\sum _{i=1}^m(X_{project}^{(i)} - \\overline X_{project})^2 = \\frac {1}{m} \\sum _{i=1}^m||X_{project}^{(i)}||^2\n",
    "$\n",
    "\n",
    "要求出方差最大，则需要求出$X_{project}$，即映射到$w$方向的坐标向量\n",
    "\n",
    "假设点原来的坐标为$X^{(i)} = (X_1^{(i)}, X_2^{(i)})$, 映射到$w$后的坐标为$(X_{pr1}^{(i)}, X_{pr2}^{(i)})$,则\n",
    "\n",
    "$$\n",
    "X^{(i)}\\cdot w = ||X^{(i)}||\\cdot || w || \\cdot \\cos \\theta \\\\\n",
    "X^{(i)}\\cdot w = ||X^{(i)}|| \\cdot \\cos \\theta\\\\\n",
    "X^{(i)}\\cdot w = ||X_{project}^{(i)} || (三角函数运算结果)\n",
    "$$\n",
    "\n",
    "此时方差就可以写为\n",
    "\n",
    "$\n",
    "Var(X_{project}) = \\frac {1}{m} \\sum _{i=1}^m||X^{(i)}\\cdot w||^2 \\\\\n",
    "Var(X_{project}) = \\frac {1}{m} \\sum _{i=1}^m(X_1^{(i)}w_1 + X_2^{(i)}w_2 + ... + X_n^{(i)}w_n)^2 = f(X) \\\\\n",
    "$\n",
    "\n",
    "对未知量求导\n",
    "\n",
    "$\n",
    "\\nabla f = \n",
    "\\begin{pmatrix}\n",
    "\\frac {\\partial f}{\\partial w_1} \\\\\n",
    "\\frac {\\partial f}{\\partial w_2} \\\\\n",
    "\\vdots \\\\\n",
    "\\frac {\\partial f}{\\partial w_n}\n",
    "\\end{pmatrix}\n",
    "=\\frac {2}{m}\n",
    "\\begin{pmatrix}\n",
    "\\sum _{i=1}^m(X_1^{(i)}w_1 + X_2^{(i)}w_2 + ... + X_n^{(i)}w_n)X_1^{(i)} \\\\\n",
    "\\sum _{i=1}^m(X_1^{(i)}w_1 + X_2^{(i)}w_2 + ... + X_n^{(i)}w_n)X_2^{(i)} \\\\\n",
    "\\vdots \\\\\n",
    "\\sum _{i=1}^m(X_1^{(i)}w_1 + X_2^{(i)}w_2 + ... + X_n^{(i)}w_n)X_n^{(i)} \\\\\n",
    "\\end{pmatrix}\n",
    "=\\frac {2}{m}\n",
    "\\begin{pmatrix}\n",
    "\\sum _{i=1}^m(X^{(i)}w)X_1^{(i)} \\\\\n",
    "\\sum _{i=1}^m(X^{(i)}w)X_2^{(i)} \\\\\n",
    "\\vdots \\\\\n",
    "\\sum _{i=1}^m(X^{(i)}w)X_n^{(i)} \\\\\n",
    "\\end{pmatrix} \\\\\n",
    "=\\frac {2}{m} \\cdot\n",
    "\\begin{pmatrix}\n",
    "X^{(1)}w & X^{(2)}w & \\cdots & X^{(m)}w\n",
    "\\end{pmatrix}\n",
    "\\cdot\n",
    "\\begin{pmatrix}\n",
    "X_1^{(1)} & X_2^{(1)} \\cdots & X_n^{(1)} \\\\\n",
    "X_1^{(1)} & X_2^{(2)} \\cdots & X_n^{(2)} \\\\\n",
    "\\vdots \\\\\n",
    "X_1^{(m)} & X_2^{(m)} \\cdots & X_n^{(m)} \\\\\n",
    "\\end{pmatrix} \\\\\n",
    "=\\frac {2}{m} \\cdot (Xw)^T \\cdot X\n",
    "$"
   ]
  },
  {
   "cell_type": "code",
   "execution_count": null,
   "metadata": {
    "collapsed": true
   },
   "outputs": [],
   "source": []
  },
  {
   "cell_type": "code",
   "execution_count": null,
   "metadata": {
    "collapsed": true
   },
   "outputs": [],
   "source": []
  }
 ],
 "metadata": {
  "kernelspec": {
   "display_name": "Python 3",
   "language": "python",
   "name": "python3"
  },
  "language_info": {
   "codemirror_mode": {
    "name": "ipython",
    "version": 3
   },
   "file_extension": ".py",
   "mimetype": "text/x-python",
   "name": "python",
   "nbconvert_exporter": "python",
   "pygments_lexer": "ipython3",
   "version": "3.6.2"
  }
 },
 "nbformat": 4,
 "nbformat_minor": 2
}
