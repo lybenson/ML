{
 "cells": [
  {
   "cell_type": "markdown",
   "metadata": {},
   "source": [
    "# 线性回归\n",
    "\n",
    "- 解决回归问题\n",
    "- 思想简单，实现容易\n",
    "- 许多强大的非线性模型的基础\n",
    "- 结果具有很好的可解释性\n",
    "- 蕴含机器学习中的很多重要思想\n",
    "\n",
    "\n",
    "线性回归是利用数理统计中回归分析，来确定两种或两种以上变量间相互依赖的定量关系的一种统计分析方\n",
    "\n",
    "样本特征只有一个的称为简单线性回归"
   ]
  },
  {
   "cell_type": "markdown",
   "metadata": {},
   "source": [
    "假设我们找到了最佳拟合的直线方程 `y = ax + b`, 则对于每一个样本点 $x^{(i)}$, 根据直线方程，预测值为$\\hat y^{(i)} = ax^{(i)} + b$, 真实值为：$y^{(i)}$\n",
    "\n",
    "表达 $y^{(i)}$ 和 $\\hat y^{(i)}$ 的差距：$ (y^{(i)} - \\hat y^{(i)})^2 $\n",
    "\n",
    "对于所有的样本得\n",
    "$$\\sum_{i=1}^m(y^{(i)} - \\hat y^{(i)})^2$$\n",
    "带入$\\hat y^{(i)} = ax^{(i)} + b$，可得\n",
    "$$\\sum_{i=1}^m(y^{(i)} - ax^{(i)} - b)^2$$\n",
    "\n",
    "目标转换为找到 a 和 b 使得上式(损失函数)尽可能的小\n",
    "\n",
    "一类机器学习算法的基本思路：\n",
    "通过分析问题，确定问题的损失函数或者效用函数;\n",
    "通过最优化损失函数或者效用函数，获得机器学习的模型；\n",
    "这类机器学习算法包括 线性回归、多项式回归、逻辑回归、SVM、神经网络等"
   ]
  },
  {
   "cell_type": "markdown",
   "metadata": {},
   "source": [
    "## 最小二乘法问题\n",
    "\n",
    "最小化误差的平方\n",
    "\n",
    "假设$J(a, b) = \\sum_{i=1}^m(y^{(i)} - ax^{(i)} - b)^2$, 要获得该函数的极值，即对该函数的各个未知分量求导，使其导数为0。即：\n",
    "\n",
    "$\\frac {\\partial J(a, b)}{\\partial a} = 0$，\n",
    "$\\frac {\\partial J(a, b)}{\\partial b} = 0$\n",
    "\n",
    "$\n",
    "\\begin{align}\n",
    "\\frac {\\partial J(a, b)}{\\partial b} = \n",
    " & \\sum_{i=1}^m2(y^{(i)} - ax^{(i)} - b)(-1) = 0 \\\\\n",
    " & \\sum_{i=1}^m(y^{(i)} - ax^{(i)} - b) = 0 \\\\\n",
    " & \\sum_{i=1}^my^{(i)} - a\\sum_{i=1}^mx^{(i)} - \\sum_{i=1}^mb = 0\\\\\n",
    " & \\sum_{i=1}^my^{(i)} - a\\sum_{i=1}^mx^{(i)} - mb = 0\\\\ \n",
    " & \\sum_{i=1}^my^{(i)} - a\\sum_{i=1}^mx^{(i)} = mb \\Rightarrow b = \\bar y - a\\bar x (\\bar x和\\bar y分别为x和y的均值)\\\\\n",
    "\\end{align}\n",
    "$\n",
    "\n",
    "$\n",
    "\\begin{align}\n",
    "\\frac {\\partial J(a, b)}{\\partial a} = \n",
    " & \\sum_{i=1}^m2(y^{(i)} - ax^{(i)} - b)(-x^{(i)}) = 0 \\\\\n",
    " & \\sum_{i=1}^m(y^{(i)} - ax^{(i)} - b)x^{(i)} = 0 \\\\\n",
    " & \\sum_{i=1}^m(y^{(i)} - ax^{(i)} - \\bar y + a\\bar x)x^{(i)} = 0\\\\\n",
    " & \\sum_{i=1}^m(x^{(i)}y^{(i)} - a(x^{(i)})^2 - x^{(i)}\\bar y + a\\bar xx^{(i)}) = 0\\\\\n",
    " & \\sum_{i=1}^m(x^{(i)}y^{(i)} - x^{(i)}\\bar y  - a(x^{(i)})^2 + a\\bar xx^{(i)}) = 0\\\\\n",
    " & \\sum_{i=1}^m(x^{(i)}y^{(i)} - x^{(i)}\\bar y) - \\sum_{i=1}^m(a(x^{(i)})^2 - a\\bar xx^{(i)}) = 0\\\\\n",
    " & \\sum_{i=1}^m(x^{(i)}y^{(i)} - x^{(i)}\\bar y) - a\\sum_{i=1}^m((x^{(i)})^2 - \\bar xx^{(i)}) = 0\\\\\n",
    " & a = \\frac{\\sum_{i=1}^m(x^{(i)}y^{(i)} - x^{(i)}\\bar y)}{\\sum_{i=1}^m((x^{(i)})^2 - \\bar xx^{(i)})}\n",
    "\\end{align}\n",
    "$\n",
    "\n",
    "对于公式$\\sum_{i=1}^mx^{(i)}\\bar y$ 可以进一步推导\n",
    "\n",
    "$\n",
    "\\begin{align}\n",
    "\\sum_{i=1}^mx^{(i)}\\bar y\n",
    " & = \\bar y\\sum_{i=1}^mx^{(i)} \\\\\n",
    " & = m\\bar y\\bar x = \\sum_{i=1}^m\\bar x\\bar y\\\\\n",
    " & = \\bar x \\sum_{i=1}^my^{(i)}\\\\\n",
    " & = \\sum_{i=1}^m\\bar xy^{(i)} \\\\\n",
    "\\end{align}\n",
    "$\n",
    "\n",
    "带入a中可得到\n",
    "\n",
    "$\n",
    "\\begin{align}\n",
    "a = \\frac{\\sum_{i=1}^m(x^{(i)}y^{(i)} - x^{(i)}\\bar y)- \\bar xy^{(i)} + \\bar x \\bar y)}{\\sum_{i=1}^m((x^{(i)})^2 - \\bar xx^{(i)} - \\bar xx^{(i)} + \\bar x^2)}\n",
    " & = \\frac{\\sum_{i=1}^m(x^{(i)} - \\bar x)(y^{(i)} - \\bar y)}{\\sum_{i=1}^m(x^{(i)} - \\bar x)^2} \n",
    "\\end{align}\n",
    "$\n",
    "\n",
    "总结: 通过上面的推导可以得到a和b的值\n",
    "$$a = \\frac{\\sum_{i=1}^m(x^{(i)} - \\bar x)(y^{(i)} - \\bar y)}{\\sum_{i=1}^m(x^{(i)} - \\bar x)^2}, b = \\bar y - a\\bar x $$"
   ]
  },
  {
   "cell_type": "markdown",
   "metadata": {
    "collapsed": true
   },
   "source": [
    "## 实现简单线性回归算法"
   ]
  },
  {
   "cell_type": "code",
   "execution_count": 1,
   "metadata": {
    "collapsed": true
   },
   "outputs": [],
   "source": [
    "import numpy as np\n",
    "import matplotlib.pyplot as plt"
   ]
  },
  {
   "cell_type": "code",
   "execution_count": 2,
   "metadata": {
    "collapsed": true
   },
   "outputs": [],
   "source": [
    "x_train = np.array([1., 2., 3., 4., 5.])\n",
    "y_train = np.array([1., 3., 2., 3., 5.])"
   ]
  },
  {
   "cell_type": "code",
   "execution_count": 3,
   "metadata": {
    "collapsed": false
   },
   "outputs": [
    {
     "data": {
      "image/png": "[encoded data removed]",
      "text/plain": [
       "<matplotlib.figure.Figure at 0x1184274e0>"
      ]
     },
     "metadata": {},
     "output_type": "display_data"
    }
   ],
   "source": [
    "plt.scatter(x_train, y_train)\n",
    "plt.axis([0, 6, 0, 6])\n",
    "plt.show()"
   ]
  },
  {
   "cell_type": "code",
   "execution_count": 4,
   "metadata": {
    "collapsed": true
   },
   "outputs": [],
   "source": [
    "x_mean = np.mean(x_train)\n",
    "y_mean = np.mean(y_train)"
   ]
  },
  {
   "cell_type": "code",
   "execution_count": 5,
   "metadata": {
    "collapsed": true
   },
   "outputs": [],
   "source": [
    "# 求a的值\n",
    "num = 0.0 # 分母\n",
    "d = 0.0 # 分子\n",
    "for x_i, y_i in zip(x_train, y_train):\n",
    "    num += (x_i - x_mean) * (y_i - y_mean)\n",
    "    d += (x_i - x_mean) ** 2"
   ]
  },
  {
   "cell_type": "code",
   "execution_count": 6,
   "metadata": {
    "collapsed": true
   },
   "outputs": [],
   "source": [
    "a = num / d\n",
    "b = y_mean - a * x_mean"
   ]
  },
  {
   "cell_type": "code",
   "execution_count": 7,
   "metadata": {
    "collapsed": false
   },
   "outputs": [
    {
     "data": {
      "text/plain": [
       "0.80000000000000004"
      ]
     },
     "execution_count": 7,
     "metadata": {},
     "output_type": "execute_result"
    }
   ],
   "source": [
    "a"
   ]
  },
  {
   "cell_type": "code",
   "execution_count": 8,
   "metadata": {
    "collapsed": false
   },
   "outputs": [
    {
     "data": {
      "text/plain": [
       "0.39999999999999947"
      ]
     },
     "execution_count": 8,
     "metadata": {},
     "output_type": "execute_result"
    }
   ],
   "source": [
    "b"
   ]
  },
  {
   "cell_type": "code",
   "execution_count": 10,
   "metadata": {
    "collapsed": false
   },
   "outputs": [],
   "source": [
    "# 使用求出的a和b的值，预测x_train\n",
    "y_hat = a * x_train + b"
   ]
  },
  {
   "cell_type": "code",
   "execution_count": 11,
   "metadata": {
    "collapsed": false
   },
   "outputs": [
    {
     "data": {
      "image/png": "[encoded data removed]",
      "text/plain": [
       "<matplotlib.figure.Figure at 0x1184d2208>"
      ]
     },
     "metadata": {},
     "output_type": "display_data"
    }
   ],
   "source": [
    "plt.scatter(x_train, y_train)\n",
    "plt.plot(x_train, y_hat, color='r')\n",
    "plt.axis([0, 6, 0, 6])\n",
    "plt.show()"
   ]
  },
  {
   "cell_type": "code",
   "execution_count": 12,
   "metadata": {
    "collapsed": false
   },
   "outputs": [
    {
     "data": {
      "text/plain": [
       "5.2000000000000002"
      ]
     },
     "execution_count": 12,
     "metadata": {},
     "output_type": "execute_result"
    }
   ],
   "source": [
    "x_predict = 6\n",
    "y_predict = a * x_predict + b\n",
    "y_predict"
   ]
  },
  {
   "cell_type": "markdown",
   "metadata": {},
   "source": [
    "## 向量化实现简单线性回归"
   ]
  },
  {
   "cell_type": "markdown",
   "metadata": {},
   "source": [
    "上述中求a的值时，对于分子和分母使用了for循环操作，效率低下。仔细观察后，可以将a的表达式转换为向量操作\n",
    "\n",
    "这里简单介绍下两个向量之间的点乘：\n",
    "\n",
    "向量的点乘,也叫向量的内积、数量积，对两个向量执行点乘运算，就是对这两个向量对应位一一相乘之后求和的操作，点乘的结果是一个标量\n",
    "\n",
    "假设存在向量$\\vec a = [a_1, a_2,...a_n]$, 存在向量$\\vec b = [b_1, b_2,...b+n]$,则\n",
    "$$\n",
    "\\vec a\\cdot \\vec b = a_1b_1 + a_2b_2+...+a_nb_n\n",
    "$$\n",
    "\n",
    "则对于\n",
    "$$a = \\frac{\\sum_{i=1}^m(x^{(i)} - \\bar x)(y^{(i)} - \\bar y)}{\\sum_{i=1}^m(x^{(i)} - \\bar x)^2}$$\n",
    "\n",
    "可以用下面的代码求解其值"
   ]
  },
  {
   "cell_type": "code",
   "execution_count": 15,
   "metadata": {
    "collapsed": false
   },
   "outputs": [
    {
     "data": {
      "text/plain": [
       "0.80000000000000004"
      ]
     },
     "execution_count": 15,
     "metadata": {},
     "output_type": "execute_result"
    }
   ],
   "source": [
    "num = (x_train - x_mean).dot(y_train - y_mean)\n",
    "d = (x_train - x_mean).dot(x_train - x_mean)\n",
    "a = num / d\n",
    "a"
   ]
  },
  {
   "cell_type": "markdown",
   "metadata": {},
   "source": [
    "#### 测试向量化的性能"
   ]
  },
  {
   "cell_type": "code",
   "execution_count": 17,
   "metadata": {
    "collapsed": true
   },
   "outputs": [],
   "source": [
    "m = 1000000\n",
    "big_x = np.random.random(size=m)\n",
    "big_y = big_x * 2.0 + 3.0 + np.random.normal(size=m)"
   ]
  },
  {
   "cell_type": "code",
   "execution_count": 34,
   "metadata": {
    "collapsed": true
   },
   "outputs": [],
   "source": [
    "x_mean = np.mean(big_x)\n",
    "y_mean = np.mean(big_y)"
   ]
  },
  {
   "cell_type": "code",
   "execution_count": 52,
   "metadata": {
    "collapsed": false
   },
   "outputs": [
    {
     "name": "stdout",
     "output_type": "stream",
     "text": [
      "167019.255941\n",
      "83386.6447275\n",
      "CPU times: user 1.04 s, sys: 7 ms, total: 1.04 s\n",
      "Wall time: 1.06 s\n"
     ]
    }
   ],
   "source": [
    "%%time\n",
    "num = 0.0\n",
    "d = 0.0\n",
    "for x_i, y_i in zip(big_x, big_y):\n",
    "    num += (x_i - x_mean) * (y_i - y_mean)\n",
    "    d += (x_i - x_mean) ** 2\n",
    "print(num)\n",
    "print(d)"
   ]
  },
  {
   "cell_type": "code",
   "execution_count": 51,
   "metadata": {
    "collapsed": false
   },
   "outputs": [
    {
     "name": "stdout",
     "output_type": "stream",
     "text": [
      "167019.255941\n",
      "83386.6447275\n",
      "CPU times: user 11.4 ms, sys: 7.52 ms, total: 18.9 ms\n",
      "Wall time: 17.1 ms\n"
     ]
    }
   ],
   "source": [
    "%%time\n",
    "num = (big_x - x_mean).dot(big_y - y_mean)\n",
    "d = (big_x - x_mean).dot(big_x - x_mean)\n",
    "print(num)\n",
    "print(d)"
   ]
  },
  {
   "cell_type": "code",
   "execution_count": 48,
   "metadata": {
    "collapsed": false
   },
   "outputs": [
    {
     "name": "stdout",
     "output_type": "stream",
     "text": [
      "2.00294971079\n",
      "2.99821712073\n"
     ]
    }
   ],
   "source": [
    "a = num / d\n",
    "b = y_mean - a * x_mean\n",
    "print(a)\n",
    "print(b)"
   ]
  }
 ],
 "metadata": {
  "kernelspec": {
   "display_name": "Python 3",
   "language": "python",
   "name": "python3"
  },
  "language_info": {
   "codemirror_mode": {
    "name": "ipython",
    "version": 3
   },
   "file_extension": ".py",
   "mimetype": "text/x-python",
   "name": "python",
   "nbconvert_exporter": "python",
   "pygments_lexer": "ipython3",
   "version": "3.6.2"
  }
 },
 "nbformat": 4,
 "nbformat_minor": 2
}
